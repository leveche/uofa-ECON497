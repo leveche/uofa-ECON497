{
 "cells": [
  {
   "cell_type": "markdown",
   "id": "95afacd9-e213-4f12-9d1b-dbc517c01acb",
   "metadata": {},
   "source": [
    "# ECON 497 Midterm 1"
   ]
  },
  {
   "cell_type": "markdown",
   "id": "522fa496-1cf8-40e9-8934-3f4d191060e8",
   "metadata": {},
   "source": [
    "## Q3"
   ]
  },
  {
   "cell_type": "code",
   "execution_count": 5,
   "id": "340381ca-e061-443a-91ac-18c80805af33",
   "metadata": {},
   "outputs": [],
   "source": [
    "data <- read.csv(\"data/WAGE2.csv\")"
   ]
  },
  {
   "cell_type": "code",
   "execution_count": 6,
   "id": "777a46c2-069d-4bbb-9ad8-3912f294adfa",
   "metadata": {
    "collapsed": true,
    "jupyter": {
     "outputs_hidden": true
    },
    "tags": []
   },
   "outputs": [
    {
     "data": {
      "text/html": [
       "<table class=\"dataframe\">\n",
       "<caption>A data.frame: 3 × 16</caption>\n",
       "<thead>\n",
       "\t<tr><th></th><th scope=col>wage</th><th scope=col>hours</th><th scope=col>IQ</th><th scope=col>KWW</th><th scope=col>educ</th><th scope=col>exper</th><th scope=col>tenure</th><th scope=col>age</th><th scope=col>married</th><th scope=col>black</th><th scope=col>south</th><th scope=col>urban</th><th scope=col>sibs</th><th scope=col>brthord</th><th scope=col>meduc</th><th scope=col>feduc</th></tr>\n",
       "\t<tr><th></th><th scope=col>&lt;int&gt;</th><th scope=col>&lt;int&gt;</th><th scope=col>&lt;int&gt;</th><th scope=col>&lt;int&gt;</th><th scope=col>&lt;int&gt;</th><th scope=col>&lt;int&gt;</th><th scope=col>&lt;int&gt;</th><th scope=col>&lt;int&gt;</th><th scope=col>&lt;int&gt;</th><th scope=col>&lt;int&gt;</th><th scope=col>&lt;int&gt;</th><th scope=col>&lt;int&gt;</th><th scope=col>&lt;int&gt;</th><th scope=col>&lt;int&gt;</th><th scope=col>&lt;int&gt;</th><th scope=col>&lt;int&gt;</th></tr>\n",
       "</thead>\n",
       "<tbody>\n",
       "\t<tr><th scope=row>1</th><td>769</td><td>40</td><td> 93</td><td>35</td><td>12</td><td>11</td><td> 2</td><td>31</td><td>1</td><td>0</td><td>0</td><td>1</td><td>1</td><td>   2</td><td> 8</td><td> 8</td></tr>\n",
       "\t<tr><th scope=row>2</th><td>808</td><td>50</td><td>119</td><td>41</td><td>18</td><td>11</td><td>16</td><td>37</td><td>1</td><td>0</td><td>0</td><td>1</td><td>1</td><td>-999</td><td>14</td><td>14</td></tr>\n",
       "\t<tr><th scope=row>3</th><td>825</td><td>40</td><td>108</td><td>46</td><td>14</td><td>11</td><td> 9</td><td>33</td><td>1</td><td>0</td><td>0</td><td>1</td><td>1</td><td>   2</td><td>14</td><td>14</td></tr>\n",
       "</tbody>\n",
       "</table>\n"
      ],
      "text/latex": [
       "A data.frame: 3 × 16\n",
       "\\begin{tabular}{r|llllllllllllllll}\n",
       "  & wage & hours & IQ & KWW & educ & exper & tenure & age & married & black & south & urban & sibs & brthord & meduc & feduc\\\\\n",
       "  & <int> & <int> & <int> & <int> & <int> & <int> & <int> & <int> & <int> & <int> & <int> & <int> & <int> & <int> & <int> & <int>\\\\\n",
       "\\hline\n",
       "\t1 & 769 & 40 &  93 & 35 & 12 & 11 &  2 & 31 & 1 & 0 & 0 & 1 & 1 &    2 &  8 &  8\\\\\n",
       "\t2 & 808 & 50 & 119 & 41 & 18 & 11 & 16 & 37 & 1 & 0 & 0 & 1 & 1 & -999 & 14 & 14\\\\\n",
       "\t3 & 825 & 40 & 108 & 46 & 14 & 11 &  9 & 33 & 1 & 0 & 0 & 1 & 1 &    2 & 14 & 14\\\\\n",
       "\\end{tabular}\n"
      ],
      "text/markdown": [
       "\n",
       "A data.frame: 3 × 16\n",
       "\n",
       "| <!--/--> | wage &lt;int&gt; | hours &lt;int&gt; | IQ &lt;int&gt; | KWW &lt;int&gt; | educ &lt;int&gt; | exper &lt;int&gt; | tenure &lt;int&gt; | age &lt;int&gt; | married &lt;int&gt; | black &lt;int&gt; | south &lt;int&gt; | urban &lt;int&gt; | sibs &lt;int&gt; | brthord &lt;int&gt; | meduc &lt;int&gt; | feduc &lt;int&gt; |\n",
       "|---|---|---|---|---|---|---|---|---|---|---|---|---|---|---|---|---|\n",
       "| 1 | 769 | 40 |  93 | 35 | 12 | 11 |  2 | 31 | 1 | 0 | 0 | 1 | 1 |    2 |  8 |  8 |\n",
       "| 2 | 808 | 50 | 119 | 41 | 18 | 11 | 16 | 37 | 1 | 0 | 0 | 1 | 1 | -999 | 14 | 14 |\n",
       "| 3 | 825 | 40 | 108 | 46 | 14 | 11 |  9 | 33 | 1 | 0 | 0 | 1 | 1 |    2 | 14 | 14 |\n",
       "\n"
      ],
      "text/plain": [
       "  wage hours IQ  KWW educ exper tenure age married black south urban sibs\n",
       "1 769  40     93 35  12   11     2     31  1       0     0     1     1   \n",
       "2 808  50    119 41  18   11    16     37  1       0     0     1     1   \n",
       "3 825  40    108 46  14   11     9     33  1       0     0     1     1   \n",
       "  brthord meduc feduc\n",
       "1    2     8     8   \n",
       "2 -999    14    14   \n",
       "3    2    14    14   "
      ]
     },
     "metadata": {},
     "output_type": "display_data"
    }
   ],
   "source": [
    "head(data,3)"
   ]
  },
  {
   "cell_type": "markdown",
   "id": "0feab489-8a0a-4628-87d3-e8bf8381098d",
   "metadata": {},
   "source": [
    "### Q3a"
   ]
  },
  {
   "cell_type": "code",
   "execution_count": 10,
   "id": "e6a363f8-19d8-4259-ba3b-6c22b7adc45b",
   "metadata": {},
   "outputs": [],
   "source": [
    "lm1 <- lm(log(wage) ~ age + educ + I(educ^2)\n",
    "          , data=data)"
   ]
  },
  {
   "cell_type": "code",
   "execution_count": 11,
   "id": "58c29e36-2a6c-4472-b33d-d46748640ef1",
   "metadata": {},
   "outputs": [
    {
     "data": {
      "text/plain": [
       "\n",
       "Call:\n",
       "lm(formula = log(wage) ~ age + educ + I(educ^2), data = data)\n",
       "\n",
       "Residuals:\n",
       "     Min       1Q   Median       3Q      Max \n",
       "-1.85221 -0.23148  0.02332  0.26599  1.35680 \n",
       "\n",
       "Coefficients:\n",
       "             Estimate Std. Error t value Pr(>|t|)    \n",
       "(Intercept)  4.074297   0.584760   6.967 6.10e-12 ***\n",
       "age          0.024134   0.004227   5.710 1.52e-08 ***\n",
       "educ         0.220060   0.078347   2.809  0.00508 ** \n",
       "I(educ^2)   -0.005679   0.002776  -2.046  0.04106 *  \n",
       "---\n",
       "Signif. codes:  0 ‘***’ 0.001 ‘**’ 0.01 ‘*’ 0.05 ‘.’ 0.1 ‘ ’ 1\n",
       "\n",
       "Residual standard error: 0.3937 on 931 degrees of freedom\n",
       "Multiple R-squared:  0.1288,\tAdjusted R-squared:  0.126 \n",
       "F-statistic: 45.87 on 3 and 931 DF,  p-value: < 2.2e-16\n"
      ]
     },
     "metadata": {},
     "output_type": "display_data"
    }
   ],
   "source": [
    "summary(lm1)"
   ]
  },
  {
   "cell_type": "markdown",
   "id": "a7094973-9f64-4dfe-a78f-8c7bec17b587",
   "metadata": {},
   "source": [
    "#### The coefficient $\\beta_2$ gives marginal (multiplicative) effect of increasing *age*, when controlled for *educ*."
   ]
  },
  {
   "cell_type": "code",
   "execution_count": null,
   "id": "9234abf7-50fd-4b89-9dc9-8a90416475fb",
   "metadata": {},
   "outputs": [],
   "source": []
  },
  {
   "cell_type": "markdown",
   "id": "eaf753d1-b1c5-4e7c-9d26-1991af64db71",
   "metadata": {},
   "source": [
    "The R output above gives the value of the $t$ statistic $t := \\frac{\\beta_2 - 0}{se(\\beta_2)} = 5.710$.\n",
    "The statistic itself is $t_{n-1}$ distributed under Gauss-Markov assumptions. The rejection region for a 2-sided test at $5\\% = 2\\times2.5\\%$ significance is { |t| > critical value calculated below }"
   ]
  },
  {
   "cell_type": "code",
   "execution_count": 12,
   "id": "03ace021-280b-4bb6-aa53-1a1babce5706",
   "metadata": {},
   "outputs": [
    {
     "data": {
      "text/html": [
       "1.96251808038103"
      ],
      "text/latex": [
       "1.96251808038103"
      ],
      "text/markdown": [
       "1.96251808038103"
      ],
      "text/plain": [
       "[1] 1.962518"
      ]
     },
     "metadata": {},
     "output_type": "display_data"
    }
   ],
   "source": [
    "qt(0.975,df=930)"
   ]
  },
  {
   "cell_type": "markdown",
   "id": "35283d2c-d25c-46ae-9fbf-88cb22ed728e",
   "metadata": {},
   "source": [
    "In this case, the value of the t-statistic is much greater than the critical value, we *reject* the null hypothesis that $\\beta_2=0$."
   ]
  },
  {
   "cell_type": "markdown",
   "id": "aaf52478-df5d-48e3-8b51-67955de823b2",
   "metadata": {},
   "source": [
    "### Q3c"
   ]
  },
  {
   "cell_type": "markdown",
   "id": "5a4baa41-2b66-4b95-bbb1-558c42edbcc8",
   "metadata": {},
   "source": [
    "as in the calculation below, the expected wage is expected to increase by approx. 52%"
   ]
  },
  {
   "cell_type": "code",
   "execution_count": 25,
   "id": "be61953a-7890-4a24-89e8-86c08f142604",
   "metadata": {},
   "outputs": [
    {
     "data": {
      "text/html": [
       "<strong>educ:</strong> 1.51801568088163"
      ],
      "text/latex": [
       "\\textbf{educ:} 1.51801568088163"
      ],
      "text/markdown": [
       "**educ:** 1.51801568088163"
      ],
      "text/plain": [
       "    educ \n",
       "1.518016 "
      ]
     },
     "metadata": {},
     "output_type": "display_data"
    }
   ],
   "source": [
    "exp(lm1$coefficients[\"educ\"]  * (12-10) + lm1$coefficients[\"I(educ^2)\"] * (12-10)^2)"
   ]
  },
  {
   "cell_type": "markdown",
   "id": "2e7d95b3-7963-42a6-9b32-1aa5f3c4cd7d",
   "metadata": {},
   "source": [
    "### Q3d"
   ]
  },
  {
   "cell_type": "markdown",
   "id": "56cc332e-785a-484b-b4c3-4c2f888c35b8",
   "metadata": {},
   "source": [
    "We use the packaged version of the Breusch-Pagan test, and outline its functionality in words. In my submission of assignment 2, I have reproduced the BP test in code.\n",
    "\n",
    "We take the null hypothesis of homoskedasticity, i.e. that the error terms $\\epsilon_i$ are independent of any factors, in particular, they are not dependent on the factors of the original regression. Since we do not observe the error terms but only their realizations in the form of *residuals*, we therefore test for goodness-of-fit of the (studentized) auxiliary regression\n",
    "$$\\frac{e^2}{\\hat{\\sigma}^2} = \\gamma_0 + \\gamma_1 (age) + \\gamma_2 (educ) + \\gamma_3 (educ^2) + \\eta$$\n",
    "with $\\hat{\\sigma}^2 = \\sum e_i^2/n$\n",
    "We can apply either an F-version of the test; the standard model adequacy test on the auxiliary regression, which should reject model adequacy to confirm homoskedasticity.\n",
    "Alternatively, we note that $\\frac{SSR_{BP}}{n}\\sim\\chi^2_3$, and reject for larger-than-critical values of the $\\chi^2$-statistic."
   ]
  },
  {
   "cell_type": "code",
   "execution_count": 37,
   "id": "9704a1a5-7178-4fc1-92ea-289f97111933",
   "metadata": {},
   "outputs": [],
   "source": [
    "library(lmtest)"
   ]
  },
  {
   "cell_type": "code",
   "execution_count": 27,
   "id": "9a6bf909-8196-4c23-a8e4-4ad0c9954204",
   "metadata": {},
   "outputs": [
    {
     "data": {
      "text/plain": [
       "\n",
       "\tstudentized Breusch-Pagan test\n",
       "\n",
       "data:  lm1\n",
       "BP = 2.0113, df = 3, p-value = 0.5701\n"
      ]
     },
     "metadata": {},
     "output_type": "display_data"
    }
   ],
   "source": [
    "bptest(lm1)"
   ]
  },
  {
   "cell_type": "markdown",
   "id": "d0553757-b644-49a4-9ae8-746fcb22ebf7",
   "metadata": {},
   "source": [
    "At any reasonable significance level, e.g. $\\alpha<10\\%$, we *fail to reject* the null hypothesis of homoskedasticity."
   ]
  },
  {
   "cell_type": "code",
   "execution_count": 28,
   "id": "314df14c-6037-47af-8be7-ac2efcb936c6",
   "metadata": {},
   "outputs": [],
   "source": [
    "data$pe <- data$age - data$educ - 6"
   ]
  },
  {
   "cell_type": "code",
   "execution_count": 31,
   "id": "4130eeba-0b9e-4b3b-8a91-7f52436c8b64",
   "metadata": {
    "tags": []
   },
   "outputs": [
    {
     "data": {
      "text/html": [
       "<table class=\"dataframe\">\n",
       "<caption>A data.frame: 3 × 3</caption>\n",
       "<thead>\n",
       "\t<tr><th></th><th scope=col>age</th><th scope=col>educ</th><th scope=col>pe</th></tr>\n",
       "\t<tr><th></th><th scope=col>&lt;int&gt;</th><th scope=col>&lt;int&gt;</th><th scope=col>&lt;dbl&gt;</th></tr>\n",
       "</thead>\n",
       "<tbody>\n",
       "\t<tr><th scope=row>1</th><td>31</td><td>12</td><td>13</td></tr>\n",
       "\t<tr><th scope=row>2</th><td>37</td><td>18</td><td>13</td></tr>\n",
       "\t<tr><th scope=row>3</th><td>33</td><td>14</td><td>13</td></tr>\n",
       "</tbody>\n",
       "</table>\n"
      ],
      "text/latex": [
       "A data.frame: 3 × 3\n",
       "\\begin{tabular}{r|lll}\n",
       "  & age & educ & pe\\\\\n",
       "  & <int> & <int> & <dbl>\\\\\n",
       "\\hline\n",
       "\t1 & 31 & 12 & 13\\\\\n",
       "\t2 & 37 & 18 & 13\\\\\n",
       "\t3 & 33 & 14 & 13\\\\\n",
       "\\end{tabular}\n"
      ],
      "text/markdown": [
       "\n",
       "A data.frame: 3 × 3\n",
       "\n",
       "| <!--/--> | age &lt;int&gt; | educ &lt;int&gt; | pe &lt;dbl&gt; |\n",
       "|---|---|---|---|\n",
       "| 1 | 31 | 12 | 13 |\n",
       "| 2 | 37 | 18 | 13 |\n",
       "| 3 | 33 | 14 | 13 |\n",
       "\n"
      ],
      "text/plain": [
       "  age educ pe\n",
       "1 31  12   13\n",
       "2 37  18   13\n",
       "3 33  14   13"
      ]
     },
     "metadata": {},
     "output_type": "display_data"
    }
   ],
   "source": [
    "head(data[,c(\"age\",\"educ\",\"pe\")],3)"
   ]
  },
  {
   "cell_type": "markdown",
   "id": "13603482-3fda-4dcb-bb79-84ffbbd458ef",
   "metadata": {},
   "source": [
    "in the model log(wage) ~ age + educ + pe, the last column is an *exact linear combination of the first two*. This leads to unrealiable estimators of the regression coefficients, as they are inflated by $(1-R^2_k)^{-1}$, which in this case will be unbounded."
   ]
  },
  {
   "cell_type": "code",
   "execution_count": 33,
   "id": "d40032bf-6d1f-4603-a3c9-d8724c7865c4",
   "metadata": {},
   "outputs": [],
   "source": [
    "lm1.mult <- lm(log(wage) ~ age + educ + pe\n",
    "              , data = data)"
   ]
  },
  {
   "cell_type": "code",
   "execution_count": 35,
   "id": "47385652-4c99-441e-8f11-9697bd9b4edc",
   "metadata": {},
   "outputs": [],
   "source": [
    "library(car)"
   ]
  },
  {
   "cell_type": "code",
   "execution_count": 36,
   "id": "802acf46-9b71-4510-bdc9-ee993a95cddb",
   "metadata": {
    "tags": []
   },
   "outputs": [
    {
     "ename": "ERROR",
     "evalue": "Error in vif.default(lm1.mult): there are aliased coefficients in the model\n",
     "output_type": "error",
     "traceback": [
      "Error in vif.default(lm1.mult): there are aliased coefficients in the model\nTraceback:\n",
      "1. car::vif(lm1.mult)",
      "2. vif.default(lm1.mult)",
      "3. stop(\"there are aliased coefficients in the model\")"
     ]
    }
   ],
   "source": [
    "car::vif(lm1.mult)"
   ]
  },
  {
   "cell_type": "markdown",
   "id": "60e9bbe9-0779-472c-86f7-fac65a8fcb32",
   "metadata": {},
   "source": [
    "## Misc"
   ]
  },
  {
   "cell_type": "markdown",
   "id": "88778338-edba-42dc-9da1-32c72bbc4f94",
   "metadata": {},
   "source": [
    "### Calculations for the theory questions"
   ]
  },
  {
   "cell_type": "code",
   "execution_count": 3,
   "id": "555495c1-1af3-48cd-8d07-cffde237f8e8",
   "metadata": {},
   "outputs": [
    {
     "data": {
      "text/html": [
       "102.666666666667"
      ],
      "text/latex": [
       "102.666666666667"
      ],
      "text/markdown": [
       "102.666666666667"
      ],
      "text/plain": [
       "[1] 102.6667"
      ]
     },
     "metadata": {},
     "output_type": "display_data"
    }
   ],
   "source": [
    "((1-0.23)/0.23)*(92/3)"
   ]
  },
  {
   "cell_type": "code",
   "execution_count": 4,
   "id": "7767e020-d2ba-4009-ad72-4a93baee394c",
   "metadata": {},
   "outputs": [
    {
     "data": {
      "text/html": [
       "2.70359404136444"
      ],
      "text/latex": [
       "2.70359404136444"
      ],
      "text/markdown": [
       "2.70359404136444"
      ],
      "text/plain": [
       "[1] 2.703594"
      ]
     },
     "metadata": {},
     "output_type": "display_data"
    }
   ],
   "source": [
    "qf(0.95,df1=3,df2=92)"
   ]
  }
 ],
 "metadata": {
  "kernelspec": {
   "display_name": "R",
   "language": "R",
   "name": "ir"
  },
  "language_info": {
   "codemirror_mode": "r",
   "file_extension": ".r",
   "mimetype": "text/x-r-source",
   "name": "R",
   "pygments_lexer": "r",
   "version": "4.1.2"
  }
 },
 "nbformat": 4,
 "nbformat_minor": 5
}
