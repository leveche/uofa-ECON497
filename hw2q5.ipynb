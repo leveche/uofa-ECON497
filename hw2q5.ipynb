{
 "cells": [
  {
   "cell_type": "code",
   "execution_count": 2,
   "id": "fffade78-008d-4cf1-b405-5c28d1b7cc31",
   "metadata": {},
   "outputs": [],
   "source": [
    "money <- read.csv(\"data/money.csv\")"
   ]
  },
  {
   "cell_type": "code",
   "execution_count": 3,
   "id": "8ee72151-3582-4d0a-99a1-8bb567fe1055",
   "metadata": {},
   "outputs": [
    {
     "data": {
      "text/html": [
       "<table class=\"dataframe\">\n",
       "<caption>A data.frame: 6 × 3</caption>\n",
       "<thead>\n",
       "\t<tr><th></th><th scope=col>M</th><th scope=col>R</th><th scope=col>Y</th></tr>\n",
       "\t<tr><th></th><th scope=col>&lt;dbl&gt;</th><th scope=col>&lt;dbl&gt;</th><th scope=col>&lt;dbl&gt;</th></tr>\n",
       "</thead>\n",
       "<tbody>\n",
       "\t<tr><th scope=row>1</th><td>1396.609</td><td>2.80</td><td>2392.9</td></tr>\n",
       "\t<tr><th scope=row>2</th><td>1420.262</td><td>3.21</td><td>2455.8</td></tr>\n",
       "\t<tr><th scope=row>3</th><td>1429.827</td><td>4.04</td><td>2453.9</td></tr>\n",
       "\t<tr><th scope=row>4</th><td>1428.997</td><td>4.49</td><td>2462.6</td></tr>\n",
       "\t<tr><th scope=row>5</th><td>1430.175</td><td>3.31</td><td>2517.4</td></tr>\n",
       "\t<tr><th scope=row>6</th><td>1439.397</td><td>2.46</td><td>2504.8</td></tr>\n",
       "</tbody>\n",
       "</table>\n"
      ],
      "text/latex": [
       "A data.frame: 6 × 3\n",
       "\\begin{tabular}{r|lll}\n",
       "  & M & R & Y\\\\\n",
       "  & <dbl> & <dbl> & <dbl>\\\\\n",
       "\\hline\n",
       "\t1 & 1396.609 & 2.80 & 2392.9\\\\\n",
       "\t2 & 1420.262 & 3.21 & 2455.8\\\\\n",
       "\t3 & 1429.827 & 4.04 & 2453.9\\\\\n",
       "\t4 & 1428.997 & 4.49 & 2462.6\\\\\n",
       "\t5 & 1430.175 & 3.31 & 2517.4\\\\\n",
       "\t6 & 1439.397 & 2.46 & 2504.8\\\\\n",
       "\\end{tabular}\n"
      ],
      "text/markdown": [
       "\n",
       "A data.frame: 6 × 3\n",
       "\n",
       "| <!--/--> | M &lt;dbl&gt; | R &lt;dbl&gt; | Y &lt;dbl&gt; |\n",
       "|---|---|---|---|\n",
       "| 1 | 1396.609 | 2.80 | 2392.9 |\n",
       "| 2 | 1420.262 | 3.21 | 2455.8 |\n",
       "| 3 | 1429.827 | 4.04 | 2453.9 |\n",
       "| 4 | 1428.997 | 4.49 | 2462.6 |\n",
       "| 5 | 1430.175 | 3.31 | 2517.4 |\n",
       "| 6 | 1439.397 | 2.46 | 2504.8 |\n",
       "\n"
      ],
      "text/plain": [
       "  M        R    Y     \n",
       "1 1396.609 2.80 2392.9\n",
       "2 1420.262 3.21 2455.8\n",
       "3 1429.827 4.04 2453.9\n",
       "4 1428.997 4.49 2462.6\n",
       "5 1430.175 3.31 2517.4\n",
       "6 1439.397 2.46 2504.8"
      ]
     },
     "metadata": {},
     "output_type": "display_data"
    }
   ],
   "source": [
    "head(money)"
   ]
  },
  {
   "cell_type": "code",
   "execution_count": 25,
   "id": "00f438a1-1df6-451c-9a67-04d1368eafe6",
   "metadata": {},
   "outputs": [],
   "source": [
    "money$M.lagged = c(money$M[-1],NA)\n",
    "money <- na.omit(money)"
   ]
  },
  {
   "cell_type": "code",
   "execution_count": 26,
   "id": "4e857c67-fe75-46a7-a053-fa49a1898b40",
   "metadata": {},
   "outputs": [],
   "source": [
    "lm1 <- lm(M ~ R + Y + M.lagged, data=money)"
   ]
  },
  {
   "cell_type": "code",
   "execution_count": 27,
   "id": "ed7203cf-2ba1-40db-83d5-2f7b5cc7578f",
   "metadata": {},
   "outputs": [
    {
     "data": {
      "text/plain": [
       "\n",
       "Call:\n",
       "lm(formula = M ~ R + Y + M.lagged, data = money)\n",
       "\n",
       "Residuals:\n",
       "     Min       1Q   Median       3Q      Max \n",
       "-123.270  -17.551   -3.708   17.371  107.940 \n",
       "\n",
       "Coefficients:\n",
       "             Estimate Std. Error t value Pr(>|t|)    \n",
       "(Intercept) -7.047787   9.937431  -0.709  0.47913    \n",
       "R            2.503229   0.838521   2.985  0.00324 ** \n",
       "Y            0.005573   0.005663   0.984  0.32642    \n",
       "M.lagged     0.980108   0.011971  81.874  < 2e-16 ***\n",
       "---\n",
       "Signif. codes:  0 ‘***’ 0.001 ‘**’ 0.01 ‘*’ 0.05 ‘.’ 0.1 ‘ ’ 1\n",
       "\n",
       "Residual standard error: 30.48 on 175 degrees of freedom\n",
       "Multiple R-squared:  0.9992,\tAdjusted R-squared:  0.9992 \n",
       "F-statistic: 7.367e+04 on 3 and 175 DF,  p-value: < 2.2e-16\n"
      ]
     },
     "metadata": {},
     "output_type": "display_data"
    }
   ],
   "source": [
    "summary(lm1)"
   ]
  },
  {
   "cell_type": "code",
   "execution_count": 39,
   "id": "8118e1b5-809f-4750-9e28-4848c4f178e1",
   "metadata": {},
   "outputs": [],
   "source": [
    "money$res <- lm1$residuals\n",
    "money$res.lagged <- c(money$res[-1],NA)\n",
    "money <- na.omit(money)"
   ]
  },
  {
   "cell_type": "code",
   "execution_count": 40,
   "id": "6e934549-0985-46df-94a4-1e9d7eec959f",
   "metadata": {},
   "outputs": [],
   "source": [
    "auxlm2 <- lm(res ~ res.lagged, data=money)"
   ]
  },
  {
   "cell_type": "markdown",
   "id": "f0b0a140-8995-45d7-b0f2-2a0bd7904dcf",
   "metadata": {},
   "source": [
    "## p-value is vanishingly small; conclude AR(1) errors"
   ]
  },
  {
   "cell_type": "code",
   "execution_count": 41,
   "id": "edda6222-ea06-4652-ae1b-7620f3c92855",
   "metadata": {},
   "outputs": [
    {
     "data": {
      "text/html": [
       "52.7274292575943"
      ],
      "text/latex": [
       "52.7274292575943"
      ],
      "text/markdown": [
       "52.7274292575943"
      ],
      "text/plain": [
       "[1] 52.72743"
      ]
     },
     "metadata": {},
     "output_type": "display_data"
    }
   ],
   "source": [
    "# we have introduced an NA row with the lag operator\n",
    "bgstat <- nrow(money) * sum(auxlm2$fitted.values^2)/sum((money$res)^2)\n",
    "bgstat"
   ]
  },
  {
   "cell_type": "code",
   "execution_count": 42,
   "id": "b4acdbea-c727-4b21-85ec-1c7e1f7810e7",
   "metadata": {},
   "outputs": [
    {
     "data": {
      "text/html": [
       "3.83201859861986e-13"
      ],
      "text/latex": [
       "3.83201859861986e-13"
      ],
      "text/markdown": [
       "3.83201859861986e-13"
      ],
      "text/plain": [
       "[1] 3.832019e-13"
      ]
     },
     "metadata": {},
     "output_type": "display_data"
    }
   ],
   "source": [
    "pchisq(bgstat, 1, lower.tail = FALSE)"
   ]
  }
 ],
 "metadata": {
  "kernelspec": {
   "display_name": "R",
   "language": "R",
   "name": "ir"
  },
  "language_info": {
   "codemirror_mode": "r",
   "file_extension": ".r",
   "mimetype": "text/x-r-source",
   "name": "R",
   "pygments_lexer": "r",
   "version": "4.1.2"
  }
 },
 "nbformat": 4,
 "nbformat_minor": 5
}
